{
 "cells": [
  {
   "cell_type": "markdown",
   "metadata": {
    "collapsed": false
   },
   "source": [
    "# [파이썬] 강의 노트\n",
    "\n",
    "# [목차]\n",
    "> ### 개요\n",
    "> ### 기초 문법\n",
    "> ### 객체 지향\n",
    "> ### 파이썬으로 데이터 다루기\n",
    "> ### Numpy\n",
    "> ### Pandas\n",
    "\n",
    "\n",
    "\n",
    "----\n",
    "# 개요\n",
    "- 운영체제\n",
    "    - 윈도우, 맥, 리눅스\n",
    "- 파일시스템\n",
    "    - root 디렉토리에서 시작하는 트리 구조\n",
    "    - 디렉토리, 파일\n",
    "    - 절대경로, 상대경로\n",
    "    -\n",
    "- 터미널\n",
    "    -   CLI\n",
    "- 파이썬\n",
    "    - 플랫폼 독립적\n",
    "    - 인터프리터 언어\n",
    "    - 객체 지향\n",
    "    - 동적 타이핑 언어\n",
    "- 컴파일러 VS 인터프리터\n",
    "    - 컴파일러\n",
    "    - 인터프리터\n",
    "- Why Python ?\n",
    "    - Life is too short, You need Python\n",
    "- 실행환경\n",
    "    - 주피터 노트북\n",
    "    - 코랩\n",
    "    - Visual Studio Code"
   ]
  },
  {
   "cell_type": "markdown",
   "metadata": {
    "collapsed": false
   },
   "source": [
    "# 기초 문법\n",
    "- Variable\n",
    "    - 변수는 메모리 주소를 가지고 있고\n",
    "    - 변수에 들어가는 값은 메모리 주소에 할당된다.\n",
    "    - 패킹, 언패킹\n",
    "        - t = [1, 2, 3]\n",
    "        - a, b, c = t\n",
    "\n",
    "- Function and Console I/O\n",
    "    - 함수적 개념이 대단히 중요하다.\n",
    "    - Function\n",
    "        - 어떤 일을 수행하는 코드의 덩어리"
   ]
  },
  {
   "cell_type": "markdown",
   "metadata": {
    "collapsed": false
   },
   "source": []
  },
  {
   "cell_type": "code",
   "execution_count": 4,
   "metadata": {
    "collapsed": false
   },
   "outputs": [
    {
     "name": "stdout",
     "output_type": "stream",
     "text": [
      "2\n"
     ]
    }
   ],
   "source": [
    "# 함수 예시\n",
    "def cal_rec(x, y):\n",
    "    return x*y\n",
    "area = cal_rec(1,2)\n",
    "print(area)"
   ]
  },
  {
   "cell_type": "code",
   "execution_count": 5,
   "metadata": {
    "collapsed": false
   },
   "outputs": [
    {
     "name": "stdout",
     "output_type": "stream",
     "text": [
      "10\n"
     ]
    }
   ],
   "source": [
    "# 입력 받기 Console I/O\n",
    "x = input()\n",
    "print(x)"
   ]
  },
  {
   "cell_type": "code",
   "execution_count": 19,
   "metadata": {
    "collapsed": false
   },
   "outputs": [
    {
     "name": "stdout",
     "output_type": "stream",
     "text": [
      "x u\n",
      "x y\n",
      "1 2\n",
      "1 2\n",
      "I eat 3 appe G\n",
      "product        GGG\n",
      "gogo 1 2 3\n",
      "Hello, **************yunjin 1111\n"
     ]
    }
   ],
   "source": [
    "# 포맷에 따른 출력\n",
    "\n",
    "# (1) % string\n",
    "print('%s %s' % ('x', 'u'))\n",
    "print('{} {}'.format('x', 'y'))\n",
    "print('%d %d' % (1, 2))\n",
    "print('{} {}'.format(1, 2))\n",
    "\n",
    "# (2) format\n",
    "print(\"I eat %d appe %s\" % (3, 'G'))\n",
    "print(\"product %10s\" % \"GGG\")\n",
    "print(\"gogo {0} {1} {2}\".format(1, 2, 3))\n",
    "\n",
    "\n",
    "# (3) fstring\n",
    "# 가장 많이 쓴다.\n",
    "name = \"yunjin\"\n",
    "age = 1111\n",
    "print(f\"Hello, {name:*>20} {age}\")\n",
    "\n",
    "\n",
    "\n",
    "\n",
    "# padding 방법 참고\n",
    "\n"
   ]
  },
  {
   "cell_type": "markdown",
   "metadata": {
    "collapsed": false
   },
   "source": [
    "- Conditionals & Loops\n",
    "    - 조건문과 반복문\n",
    "        - if, for\n",
    "    - 논리적인 생각의 기본\n",
    "- String & advanced function concept\n",
    "    - 데이터 타입은 메모리의 효율적 활용을 위해 매우 중요합니다.\n",
    "- Call By Value || Call By Reference\n",
    "    - Call By Value\n",
    "        -  값을 넘김\n",
    "    - Call By Reference\n",
    "        -  메모리 주소를 넘김\n",
    "        - 포인터 개념\n",
    "-  파이썬은 call by Object References\n",
    "\n"
   ]
  },
  {
   "cell_type": "code",
   "execution_count": 1,
   "metadata": {
    "collapsed": false
   },
   "outputs": [
    {
     "name": "stdout",
     "output_type": "stream",
     "text": [
      "[2, 3]\n",
      "[0, 1, 5]\n"
     ]
    }
   ],
   "source": [
    "def spam(eggs):\n",
    "    eggs.append(1)\n",
    "    eggs.append(5)\n",
    "    eggs = [2, 3]\n",
    "    print(eggs)\n",
    "\n",
    "ham = [0]\n",
    "spam(ham)\n",
    "print(ham)"
   ]
  },
  {
   "attachments": {},
   "cell_type": "markdown",
   "metadata": {
    "collapsed": false
   },
   "source": [
    "* Scoping Rule\n",
    "    * 지역 변수 local variable\n",
    "    * 전역 변수 Global variable\n",
    "* 재귀 함수\n",
    "  * 재귀 함수를 잘 활용해야 진정한 고수다!\n",
    "* functino type hints\n",
    "  * 리턴 타입을 알 기 쉽게 해주는 것\n",
    "  * 안전성 보장\n",
    "* docstring\n",
    "  * 함수의 스펙을 사전에 작성하는 것\n",
    "* 코드는 하나의 보고서다.\n",
    "  * 잘 해야지 !\n",
    "  * 코딩 컨벤션을 잘 지키자. (구글 컨벤션)\n",
    "  * 일관성을 지켜야지.\n",
    "  * [링크](https://yosseulsin-job.github.io/Google-Python-Style-Guide-kor/)\n",
    "  * conda install -c anaconda flake8\n",
    "    * 이걸로 체크하라.\n",
    "  * conda install black\n",
    "    * 이것은 수정해줌 (표준임)"
   ]
  },
  {
   "cell_type": "code",
   "execution_count": 1,
   "metadata": {
    "collapsed": false
   },
   "outputs": [
    {
     "name": "stdout",
     "output_type": "stream",
     "text": [
      "GGG qq\n"
     ]
    }
   ],
   "source": [
    "def do(name: str) -> str:\n",
    "    \"\"\"_summary_\n",
    "    이것이 docstring 다.\n",
    "\n",
    "    Args:\n",
    "        name (str): _description_\n",
    "\n",
    "    Returns:\n",
    "        str: _description_\n",
    "    \"\"\"    \n",
    "    return f\"GGG {name}\"\n",
    "gg = do(\"qq\")\n",
    "print(gg)"
   ]
  },
  {
   "attachments": {},
   "cell_type": "markdown",
   "metadata": {},
   "source": [
    "## Python Data Structure\n",
    "* stack\n",
    "  * LIFO\n",
    "* queue\n",
    "  * FIFO\n",
    "* tuple, set\n",
    "* dictionary\n",
    "* Collection"
   ]
  },
  {
   "attachments": {},
   "cell_type": "markdown",
   "metadata": {},
   "source": [
    "# Pythonic code\n",
    "* 파이썬 다운 스타일\n",
    "  * 많은 딥러닝 논문, 엔지니어가 파이쏘닉 코드를 쓰고 있기 때문에 인지하고 있어야 한다.\n",
    "* split, join\n",
    "* list comprehension\n",
    "* enumerate, zip\n",
    "* lambda\n",
    "* map\n",
    "* reduce\n",
    "  * 대용량의 데이터를 다룰 때\n",
    "  * 리스트에 특정 람다함수를 지속적으로 적용시켜줄 때\n",
    "* generator (주의 !! )\n",
    "  * 실제로 값을 안 들어놓고 실제 호출했을 때 호출\n",
    "  * 메모리를 절약할 수 있음.\n",
    "  * 파일 데이터, 큰 데이터를 처리할 때 사용 하면 된다.\n",
    "* asterisk\n",
    "* fucntion parameter\n",
    "  * keyword arguments\n",
    "  * Default arguments\n",
    "  * variable arguments\n",
    "    * asterist = * 기호\n",
    "    * *\n",
    "    * 딕트만 받기 -> ** \n",
    "    * unpacking "
   ]
  },
  {
   "cell_type": "code",
   "execution_count": 9,
   "metadata": {},
   "outputs": [
    {
     "name": "stdout",
     "output_type": "stream",
     "text": [
      "[0, 1, 2, 3, 4, 5, 6, 7, 8, 9]\n",
      "['to', 'tn', 'te', 'oo', 'on', 'oe']\n",
      "[['go', 'ba'], ['ho', 'qa'], ['no', 'to']]\n",
      "51\n",
      "{'a': 3, 'b': 'gg', 'c': 'ggg'}\n"
     ]
    }
   ],
   "source": [
    "result = [i for i in range(10)]\n",
    "print(result)\n",
    "result2 = [i+j for i in 'to' for j in 'one']\n",
    "print(result2)\n",
    "\n",
    "#zip\n",
    "k = ['go', 'ho', 'no']\n",
    "n = ['ba', 'qa', 'to']\n",
    "uu = [[a,b] for a, b in zip(k, n)]\n",
    "print(uu)\n",
    "\n",
    "# reduce\n",
    "from functools import reduce\n",
    "reduce(lambda x, y:x+y, [1,2,3,4,5])\n",
    "\n",
    "\n",
    "# asterisk\n",
    "def asterisk_test(a, b, *args):\n",
    "    return a+b+sum(args)\n",
    "print(asterisk_test(1,2,3,45))\n",
    "\n",
    "def asterisk_test2(**kwards):\n",
    "    print(kwards)\n",
    "\n",
    "asterisk_test2(a=3, b='gg', c='ggg')\n"
   ]
  },
  {
   "attachments": {},
   "cell_type": "markdown",
   "metadata": {},
   "source": [
    "# 객체 지향"
   ]
  },
  {
   "attachments": {},
   "cell_type": "markdown",
   "metadata": {},
   "source": [
    "# 데이터 다루기"
   ]
  },
  {
   "attachments": {},
   "cell_type": "markdown",
   "metadata": {},
   "source": [
    "# Numpy"
   ]
  },
  {
   "attachments": {},
   "cell_type": "markdown",
   "metadata": {},
   "source": [
    "# Pandas"
   ]
  },
  {
   "cell_type": "markdown",
   "metadata": {},
   "source": []
  },
  {
   "cell_type": "markdown",
   "metadata": {},
   "source": []
  },
  {
   "cell_type": "markdown",
   "metadata": {},
   "source": []
  }
 ],
 "metadata": {
  "kernelspec": {
   "display_name": "Python 3",
   "language": "python",
   "name": "python3"
  },
  "language_info": {
   "codemirror_mode": {
    "name": "ipython",
    "version": 3
   },
   "file_extension": ".py",
   "mimetype": "text/x-python",
   "name": "python",
   "nbconvert_exporter": "python",
   "pygments_lexer": "ipython3",
   "version": "3.9.16"
  }
 },
 "nbformat": 4,
 "nbformat_minor": 0
}
