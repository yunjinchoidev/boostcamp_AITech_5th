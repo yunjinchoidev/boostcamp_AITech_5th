{
 "cells": [
  {
   "cell_type": "markdown",
   "source": [
    "# [파이썬] 강의 노트\n",
    "\n",
    "# [목차]\n",
    "> ### 개요\n",
    "> ### 기초 문법\n",
    "> ### 객체 지향\n",
    "> ### 파이썬으로 데이터 다루기\n",
    "> ### Numpy\n",
    "> ### Pandas\n",
    "\n",
    "\n",
    "\n",
    "----\n",
    "# 개요\n",
    "- 운영체제\n",
    "    - 윈도우, 맥, 리눅스\n",
    "- 파일시스템\n",
    "    - root 디렉토리에서 시작하는 트리 구조\n",
    "    - 디렉토리, 파일\n",
    "    - 절대경로, 상대경로\n",
    "    -\n",
    "- 터미널\n",
    "    -   CLI\n",
    "- 파이썬\n",
    "    - 플랫폼 독립적\n",
    "    - 인터프리터 언어\n",
    "    - 객체 지향\n",
    "    - 동적 타이핑 언어\n",
    "- 컴파일러 VS 인터프리터\n",
    "    - 컴파일러\n",
    "    - 인터프리터\n",
    "- Why Python ?\n",
    "    - Life is too short, You need Python\n",
    "- 실행환경\n",
    "    - 주피터 노트북\n",
    "    - 코랩\n",
    "    - Visual Studio Code"
   ],
   "metadata": {
    "collapsed": false
   }
  },
  {
   "cell_type": "markdown",
   "source": [
    "# 기초 문법\n",
    "- Variable\n",
    "    - 변수는 메모리 주소를 가지고 있고\n",
    "    - 변수에 들어가는 값은 메모리 주소에 할당된다.\n",
    "    - 패킹, 언패킹\n",
    "        - t = [1, 2, 3]\n",
    "        - a, b, c = t\n",
    "\n",
    "- Function and Console I/O\n",
    "    - 함수적 개념이 대단히 중요하다.\n",
    "    - Function\n",
    "        - 어떤 일을 수행하는 코드의 덩어리"
   ],
   "metadata": {
    "collapsed": false
   }
  },
  {
   "cell_type": "markdown",
   "source": [],
   "metadata": {
    "collapsed": false
   }
  },
  {
   "cell_type": "code",
   "execution_count": 4,
   "outputs": [
    {
     "name": "stdout",
     "output_type": "stream",
     "text": [
      "2\n"
     ]
    }
   ],
   "source": [
    "# 함수 예시\n",
    "def cal_rec(x, y):\n",
    "    return x*y\n",
    "area = cal_rec(1,2)\n",
    "print(area)"
   ],
   "metadata": {
    "collapsed": false
   }
  },
  {
   "cell_type": "code",
   "execution_count": 5,
   "outputs": [
    {
     "name": "stdout",
     "output_type": "stream",
     "text": [
      "10\n"
     ]
    }
   ],
   "source": [
    "# 입력 받기 Console I/O\n",
    "x = input()\n",
    "print(x)"
   ],
   "metadata": {
    "collapsed": false
   }
  },
  {
   "cell_type": "code",
   "execution_count": 19,
   "outputs": [
    {
     "name": "stdout",
     "output_type": "stream",
     "text": [
      "x u\n",
      "x y\n",
      "1 2\n",
      "1 2\n",
      "I eat 3 appe G\n",
      "product        GGG\n",
      "gogo 1 2 3\n",
      "Hello, **************yunjin 1111\n"
     ]
    }
   ],
   "source": [
    "# 포맷에 따른 출력\n",
    "\n",
    "# (1) % string\n",
    "print('%s %s' % ('x', 'u'))\n",
    "print('{} {}'.format('x', 'y'))\n",
    "print('%d %d' % (1, 2))\n",
    "print('{} {}'.format(1, 2))\n",
    "\n",
    "# (2) format\n",
    "print(\"I eat %d appe %s\" % (3, 'G'))\n",
    "print(\"product %10s\" % \"GGG\")\n",
    "print(\"gogo {0} {1} {2}\".format(1, 2, 3))\n",
    "\n",
    "\n",
    "# (3) fstring\n",
    "# 가장 많이 쓴다.\n",
    "name = \"yunjin\"\n",
    "age = 1111\n",
    "print(f\"Hello, {name:*>20} {age}\")\n",
    "\n",
    "\n",
    "\n",
    "\n",
    "# padding 방법 참고\n",
    "\n"
   ],
   "metadata": {
    "collapsed": false
   }
  }
 ],
 "metadata": {
  "kernelspec": {
   "display_name": "Python 3",
   "language": "python",
   "name": "python3"
  },
  "language_info": {
   "codemirror_mode": {
    "name": "ipython",
    "version": 2
   },
   "file_extension": ".py",
   "mimetype": "text/x-python",
   "name": "python",
   "nbconvert_exporter": "python",
   "pygments_lexer": "ipython2",
   "version": "2.7.6"
  }
 },
 "nbformat": 4,
 "nbformat_minor": 0
}
