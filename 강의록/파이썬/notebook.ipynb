{
 "cells": [
  {
   "cell_type": "markdown",
   "source": [
    "# [파이썬] 강의 노트\n",
    "\n",
    "# [목차]\n",
    "> ### 개요\n",
    "> ### 기초 문법\n",
    "> ### 객체 지향\n",
    "> ### 파이썬으로 데이터 다루기\n",
    "> ### Numpy\n",
    "> ### Pandas\n",
    "\n",
    "\n",
    "\n",
    "----\n",
    "# 개요\n",
    "- 운영체제\n",
    "    - 윈도우, 맥, 리눅스\n",
    "- 파일시스템\n",
    "    - root 디렉토리에서 시작하는 트리 구조\n",
    "    - 디렉토리, 파일\n",
    "    - 절대경로, 상대경로\n",
    "    -\n",
    "- 터미널\n",
    "    -   CLI\n",
    "- 파이썬\n",
    "    - 플랫폼 독립적\n",
    "    - 인터프리터 언어\n",
    "    - 객체 지향\n",
    "    - 동적 타이핑 언어\n",
    "- 컴파일러 VS 인터프리터\n",
    "    - 컴파일러\n",
    "    - 인터프리터\n",
    "- Why Python ?\n",
    "    - Life is too short, You need Python\n",
    "- 실행환경\n",
    "    - 주피터 노트북\n",
    "    - 코랩\n",
    "    - Visual Studio Code"
   ],
   "metadata": {
    "collapsed": false
   }
  },
  {
   "cell_type": "code",
   "execution_count": null,
   "outputs": [],
   "source": [],
   "metadata": {
    "collapsed": false
   }
  },
  {
   "cell_type": "code",
   "execution_count": null,
   "outputs": [],
   "source": [],
   "metadata": {
    "collapsed": false
   }
  }
 ],
 "metadata": {
  "kernelspec": {
   "display_name": "Python 3",
   "language": "python",
   "name": "python3"
  },
  "language_info": {
   "codemirror_mode": {
    "name": "ipython",
    "version": 2
   },
   "file_extension": ".py",
   "mimetype": "text/x-python",
   "name": "python",
   "nbconvert_exporter": "python",
   "pygments_lexer": "ipython2",
   "version": "2.7.6"
  }
 },
 "nbformat": 4,
 "nbformat_minor": 0
}
