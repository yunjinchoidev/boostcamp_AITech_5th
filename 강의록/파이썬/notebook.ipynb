{
 "cells": [
  {
   "cell_type": "markdown",
   "metadata": {
    "collapsed": false
   },
   "source": [
    "# [파이썬] 강의 노트\n",
    "\n",
    "# [목차]\n",
    "> ### 개요\n",
    "> ### 기초 문법\n",
    "> ### 객체 지향\n",
    "> ### 파이썬으로 데이터 다루기\n",
    "> ### Numpy\n",
    "> ### Pandas\n",
    "\n",
    "\n",
    "\n",
    "----\n",
    "# 개요\n",
    "- 운영체제\n",
    "    - 윈도우, 맥, 리눅스\n",
    "- 파일시스템\n",
    "    - root 디렉토리에서 시작하는 트리 구조\n",
    "    - 디렉토리, 파일\n",
    "    - 절대경로, 상대경로\n",
    "    -\n",
    "- 터미널\n",
    "    -   CLI\n",
    "- 파이썬\n",
    "    - 플랫폼 독립적\n",
    "    - 인터프리터 언어\n",
    "    - 객체 지향\n",
    "    - 동적 타이핑 언어\n",
    "- 컴파일러 VS 인터프리터\n",
    "    - 컴파일러\n",
    "    - 인터프리터\n",
    "- Why Python ?\n",
    "    - Life is too short, You need Python\n",
    "- 실행환경\n",
    "    - 주피터 노트북\n",
    "    - 코랩\n",
    "    - Visual Studio Code"
   ]
  },
  {
   "cell_type": "markdown",
   "metadata": {
    "collapsed": false
   },
   "source": [
    "# 기초 문법\n",
    "- Variable\n",
    "    - 변수는 메모리 주소를 가지고 있고\n",
    "    - 변수에 들어가는 값은 메모리 주소에 할당된다.\n",
    "    - 패킹, 언패킹\n",
    "        - t = [1, 2, 3]\n",
    "        - a, b, c = t\n",
    "\n",
    "- Function and Console I/O\n",
    "    - 함수적 개념이 대단히 중요하다.\n",
    "    - Function\n",
    "        - 어떤 일을 수행하는 코드의 덩어리"
   ]
  },
  {
   "cell_type": "markdown",
   "metadata": {
    "collapsed": false
   },
   "source": []
  },
  {
   "cell_type": "code",
   "execution_count": 4,
   "metadata": {
    "collapsed": false
   },
   "outputs": [
    {
     "name": "stdout",
     "output_type": "stream",
     "text": [
      "2\n"
     ]
    }
   ],
   "source": [
    "# 함수 예시\n",
    "def cal_rec(x, y):\n",
    "    return x*y\n",
    "area = cal_rec(1,2)\n",
    "print(area)"
   ]
  },
  {
   "cell_type": "code",
   "execution_count": 5,
   "metadata": {
    "collapsed": false
   },
   "outputs": [
    {
     "name": "stdout",
     "output_type": "stream",
     "text": [
      "10\n"
     ]
    }
   ],
   "source": [
    "# 입력 받기 Console I/O\n",
    "x = input()\n",
    "print(x)"
   ]
  },
  {
   "cell_type": "code",
   "execution_count": 19,
   "metadata": {
    "collapsed": false
   },
   "outputs": [
    {
     "name": "stdout",
     "output_type": "stream",
     "text": [
      "x u\n",
      "x y\n",
      "1 2\n",
      "1 2\n",
      "I eat 3 appe G\n",
      "product        GGG\n",
      "gogo 1 2 3\n",
      "Hello, **************yunjin 1111\n"
     ]
    }
   ],
   "source": [
    "# 포맷에 따른 출력\n",
    "\n",
    "# (1) % string\n",
    "print('%s %s' % ('x', 'u'))\n",
    "print('{} {}'.format('x', 'y'))\n",
    "print('%d %d' % (1, 2))\n",
    "print('{} {}'.format(1, 2))\n",
    "\n",
    "# (2) format\n",
    "print(\"I eat %d appe %s\" % (3, 'G'))\n",
    "print(\"product %10s\" % \"GGG\")\n",
    "print(\"gogo {0} {1} {2}\".format(1, 2, 3))\n",
    "\n",
    "\n",
    "# (3) fstring\n",
    "# 가장 많이 쓴다.\n",
    "name = \"yunjin\"\n",
    "age = 1111\n",
    "print(f\"Hello, {name:*>20} {age}\")\n",
    "\n",
    "\n",
    "\n",
    "\n",
    "# padding 방법 참고\n",
    "\n"
   ]
  },
  {
   "cell_type": "markdown",
   "metadata": {
    "collapsed": false
   },
   "source": [
    "- Conditionals & Loops\n",
    "    - 조건문과 반복문\n",
    "        - if, for\n",
    "    - 논리적인 생각의 기본\n",
    "- String & advanced function concept\n",
    "    - 데이터 타입은 메모리의 효율적 활용을 위해 매우 중요합니다.\n",
    "- Call By Value || Call By Reference\n",
    "    - Call By Value\n",
    "        -  값을 넘김\n",
    "    - Call By Reference\n",
    "        -  메모리 주소를 넘김\n",
    "        - 포인터 개념\n",
    "-  파이썬은 call by Object References\n",
    "\n"
   ]
  },
  {
   "cell_type": "code",
   "execution_count": 1,
   "metadata": {
    "collapsed": false
   },
   "outputs": [
    {
     "name": "stdout",
     "output_type": "stream",
     "text": [
      "[2, 3]\n",
      "[0, 1, 5]\n"
     ]
    }
   ],
   "source": [
    "def spam(eggs):\n",
    "    eggs.append(1)\n",
    "    eggs.append(5)\n",
    "    eggs = [2, 3]\n",
    "    print(eggs)\n",
    "\n",
    "ham = [0]\n",
    "spam(ham)\n",
    "print(ham)"
   ]
  },
  {
   "attachments": {},
   "cell_type": "markdown",
   "metadata": {
    "collapsed": false
   },
   "source": [
    "* Scoping Rule\n",
    "    * 지역 변수 local variable\n",
    "    * 전역 변수 Global variable\n",
    "* 재귀 함수\n",
    "  * 재귀 함수를 잘 활용해야 진정한 고수다!\n",
    "* functino type hints\n",
    "  * 리턴 타입을 알 기 쉽게 해주는 것\n",
    "  * 안전성 보장\n",
    "* docstring\n",
    "  * 함수의 스펙을 사전에 작성하는 것\n",
    "* 코드는 하나의 보고서다.\n",
    "  * 잘 해야지 !\n",
    "  * 코딩 컨벤션을 잘 지키자. (구글 컨벤션)\n",
    "  * 일관성을 지켜야지.\n",
    "  * [링크](https://yosseulsin-job.github.io/Google-Python-Style-Guide-kor/)\n",
    "  * conda install -c anaconda flake8\n",
    "    * 이걸로 체크하라.\n",
    "  * conda install black\n",
    "    * 이것은 수정해줌 (표준임)"
   ]
  },
  {
   "cell_type": "code",
   "execution_count": 1,
   "metadata": {
    "collapsed": false
   },
   "outputs": [
    {
     "name": "stdout",
     "output_type": "stream",
     "text": [
      "GGG qq\n"
     ]
    }
   ],
   "source": [
    "def do(name: str) -> str:\n",
    "    \"\"\"_summary_\n",
    "    이것이 docstring 다.\n",
    "\n",
    "    Args:\n",
    "        name (str): _description_\n",
    "\n",
    "    Returns:\n",
    "        str: _description_\n",
    "    \"\"\"    \n",
    "    return f\"GGG {name}\"\n",
    "gg = do(\"qq\")\n",
    "print(gg)"
   ]
  },
  {
   "attachments": {},
   "cell_type": "markdown",
   "metadata": {},
   "source": [
    "## Python Data Structure\n",
    "* stack\n",
    "  * LIFO\n",
    "* queue\n",
    "  * FIFO\n",
    "* tuple, set\n",
    "* dictionary\n",
    "* Collection"
   ]
  },
  {
   "attachments": {},
   "cell_type": "markdown",
   "metadata": {},
   "source": [
    "# Pythonic code\n",
    "* 파이썬 다운 스타일\n",
    "  * 많은 딥러닝 논문, 엔지니어가 파이쏘닉 코드를 쓰고 있기 때문에 인지하고 있어야 한다.\n",
    "* split, join\n",
    "* list comprehension\n",
    "* enumerate, zip\n",
    "* lambda\n",
    "* map\n",
    "* reduce\n",
    "  * 대용량의 데이터를 다룰 때\n",
    "  * 리스트에 특정 람다함수를 지속적으로 적용시켜줄 때\n",
    "* generator (주의 !! )\n",
    "  * 실제로 값을 안 들어놓고 실제 호출했을 때 호출\n",
    "  * 메모리를 절약할 수 있음.\n",
    "  * 파일 데이터, 큰 데이터를 처리할 때 사용 하면 된다.\n",
    "* asterisk\n",
    "* fucntion parameter\n",
    "  * keyword arguments\n",
    "  * Default arguments\n",
    "  * variable arguments\n",
    "    * asterist = * 기호\n",
    "    * *\n",
    "    * 딕트만 받기 -> ** \n",
    "    * unpacking "
   ]
  },
  {
   "cell_type": "code",
   "execution_count": 9,
   "metadata": {},
   "outputs": [
    {
     "name": "stdout",
     "output_type": "stream",
     "text": [
      "[0, 1, 2, 3, 4, 5, 6, 7, 8, 9]\n",
      "['to', 'tn', 'te', 'oo', 'on', 'oe']\n",
      "[['go', 'ba'], ['ho', 'qa'], ['no', 'to']]\n",
      "51\n",
      "{'a': 3, 'b': 'gg', 'c': 'ggg'}\n"
     ]
    }
   ],
   "source": [
    "result = [i for i in range(10)]\n",
    "print(result)\n",
    "result2 = [i+j for i in 'to' for j in 'one']\n",
    "print(result2)\n",
    "\n",
    "#zip\n",
    "k = ['go', 'ho', 'no']\n",
    "n = ['ba', 'qa', 'to']\n",
    "uu = [[a,b] for a, b in zip(k, n)]\n",
    "print(uu)\n",
    "\n",
    "# reduce\n",
    "from functools import reduce\n",
    "reduce(lambda x, y:x+y, [1,2,3,4,5])\n",
    "\n",
    "\n",
    "# asterisk\n",
    "def asterisk_test(a, b, *args):\n",
    "    return a+b+sum(args)\n",
    "print(asterisk_test(1,2,3,45))\n",
    "\n",
    "def asterisk_test2(**kwards):\n",
    "    print(kwards)\n",
    "\n",
    "asterisk_test2(a=3, b='gg', c='ggg')\n"
   ]
  },
  {
   "attachments": {},
   "cell_type": "markdown",
   "metadata": {},
   "source": [
    "# 객체 지향\n",
    "- Object-Oriented Programming\n",
    "- 객체\n",
    "  - 속성 `Variable`\n",
    "  - 행동 `Method`\n",
    "- __init__ : 초기화 함수\n",
    "- 매직 메서드 [링크](https://tibetsandfox.tistory.com/42)\n",
    "- 실전 클래스를 만들어서 연습해보라.\n",
    "\n",
    "\n",
    "- 상속 (Inheritance)\n",
    "  - super() 부모 객체 불러오기 \n",
    "- 다형성 (Polymorphism)\n",
    "  - 내부로직을 다르게 구현하기..\n",
    "  - `NotImplementedError()`\n",
    "- 가시성 (Visibility)\n",
    "  - 심판이 축구 선수의 가족을 알아야 합니까? \n",
    "  - 인터페이스만 알아서 쓰시라.\n",
    "  - private 변수로 선언해서 타객체가 접근하지 못하도록 합니다.\n",
    "  - 데코레이터 : @property\n",
    "\n",
    "- 일급객체 (first-class object)\n",
    "  - 변수나 데이터 구조에 할당이 가능한 객체\n",
    "  - 파이썬 함수는 일급함수.\n",
    "- inner function \n",
    "  - closures : inner function 을 return 을 반환 \n",
    "- decorator\n",
    "  - 함수를 어노테이션으로 써버리는 것."
   ]
  },
  {
   "attachments": {},
   "cell_type": "markdown",
   "metadata": {},
   "source": [
    "# 모듈\n",
    "- 남이 만든 것을 가져다 쓰기 By Module\n",
    "- 조각을 모아 프로그램을 만든다.\n",
    "\n",
    "# 가상환경\n",
    "- pip\n",
    "- conda\n",
    "  - conda install ~\n",
    "  - conda create -n '' \n",
    "  - conda activate ~~\n",
    "\n",
    "# 오픈소스\n",
    "- matplotlib\n",
    "- tqdm\n",
    "\n"
   ]
  },
  {
   "cell_type": "code",
   "execution_count": 2,
   "metadata": {},
   "outputs": [
    {
     "data": {
      "image/png": "[encoded data removed]",
      "text/plain": [
       "<Figure size 640x480 with 1 Axes>"
      ]
     },
     "metadata": {},
     "output_type": "display_data"
    }
   ],
   "source": [
    "import matplotlib.pyplot as plt\n",
    "\n",
    "plt.plot([1,2,3,4])\n",
    "plt.ylabel('some numbers')\n",
    "plt.show()\n",
    "\n",
    "\n",
    "# 반복문에서 실행 바를 보여주기 \n",
    "from tqdm import tqdm\n",
    "import time\n",
    "\n",
    "for i in tqdm(range(100000)):\n",
    "    if i % 1000 == 0:\n",
    "        time.sleep(1)"
   ]
  },
  {
   "attachments": {},
   "cell_type": "markdown",
   "metadata": {},
   "source": [
    "# 데이터 다루기\n",
    "\n",
    "## Exception\n",
    "- 예외처리를 잘 하면 프로그램은 안전하게 실행할 수 있다.\n",
    "- 전체 익셉션을 잡으면 추적이 어렵다. (좋은 코드가 아니다.)\n",
    "- try, except, finally\n",
    "- \n",
    "\n",
    "## File\n",
    "- Binary 파일\n",
    "- Text 파일\n",
    "- `open` 키워드를 사용해서 파일 읽는다.\n",
    "  - r : 읽기\n",
    "  - w : 쓰기\n",
    "  - a : 추가\n",
    "\n",
    "## Log Handling\n"
   ]
  },
  {
   "cell_type": "code",
   "execution_count": 12,
   "metadata": {},
   "outputs": [
    {
     "name": "stdout",
     "output_type": "stream",
     "text": [
      "ddddfasdfa\n",
      "<class 'str'> ddddfasdfa\n"
     ]
    }
   ],
   "source": [
    "f = open(\"test.txt\", \"r\")\n",
    "content = f.read()\n",
    "print(content)\n",
    "f.close()\n",
    "\n",
    "with open(\"test.txt\", \"r\") as my_file:\n",
    "    cc = my_file.read()\n",
    "    print(type(cc), cc)\n",
    "\n",
    "ff = open(\"gogo.txt\", \"w\", encoding=\"utf8\")\n",
    "for i in range(1, 11):\n",
    "    data = \"GG\" + str(i) +\"\\n\"\n",
    "    ff.write(data)\n",
    "ff.close()\n",
    "\n"
   ]
  },
  {
   "attachments": {},
   "cell_type": "markdown",
   "metadata": {},
   "source": [
    "Picle\n",
    "- 객체를 임시로 저장\n",
    "- 딥러닝에서  사용 되는 원리 (미분값보관)\n",
    "\n",
    "\n",
    "## Loggin Handle\n",
    "- 로깅 데이터를 추적하는 것은 굉장한 이슈\n",
    "  - 딥러닝 학습 중 필요한 로깅을 슬랙, 카카오톡, 라인으로 발송 해준다.\n",
    "- 게임에서 핵을 어떻게 잡는가 ? \n",
    "- import logging\n",
    "- loggging.debug\n",
    "- loggging.warn\n",
    "- debug > INFO > warnning > error > critical\n",
    "- logger.setLevel(loggin.INFO)\n",
    "- <> (야믈을 쓸꺼냐, cli를 쓸꺼냐.)\n",
    "  - cofigparser\n",
    "  - argpaser\n",
    "    - command line option"
   ]
  },
  {
   "cell_type": "markdown",
   "metadata": {},
   "source": []
  },
  {
   "attachments": {},
   "cell_type": "markdown",
   "metadata": {},
   "source": [
    "# 데이터 타입 (CSV, 웹, XML, JSON)\n",
    "\n",
    "---\n",
    "### CSV\n",
    "### 웹\n",
    "### XML\n",
    "### JSON\n",
    "\n",
    "---\n",
    "### 정규식\n",
    "- 복잡한 문자열 패턴을 정의하는 문자 표현 공식\n",
    "- 파이썬\n",
    "  - import re\n",
    "\n",
    "---\n",
    "### beautifulsoup\n",
    "- \n"
   ]
  },
  {
   "attachments": {},
   "cell_type": "markdown",
   "metadata": {},
   "source": [
    "# Numpy\n",
    "- dl 에 있어서 가장 기본적인 모듈. 아주 잘 다뤄야 한다.\n",
    "- 선형대수학\n",
    "- 행렬과 텐서를 어떻게 넘파이로 표현할 것인가?\n",
    "- import numpy as np\n",
    "- conda install numpy\n",
    "- numpy 는 c 로 구현 되어 있어서 성능 이점\n",
    "- ndarray\n",
    "  - np.array([1,2,3,4], float)\n",
    "- rank\n",
    "  - scalar\n",
    "  - vector\n",
    "  - matrix\n",
    "  - 3-tensor\n",
    "  - n-tensor\n",
    "- np.reshape(m,n)\n",
    "  - np.reshape(-1,m)\n",
    "- np.flatten()\n",
    "- np.arrang(n, m, t)\n",
    "- np.zeros\n",
    "- np.ones()\n",
    "- np.empty()\n",
    "  - does'nt memory initialization\n",
    "- np.ones_like()\n",
    "- np.identity(n=3)\n",
    "- np.diag()\n",
    "- np.random.uniform()\n",
    "- test_array.sum(axis=n)\n",
    "- test_array.std(axis=n)\n",
    "- test_array.mean(axis=n)\n",
    "- np.vstack()\n",
    "- np.hstack()\n",
    "- test_array.dot(test_array2)\n",
    "- test_array.T\n",
    "- test_array.transpose()\n",
    "- broadcasting\n",
    "- np.where\n",
    "- np.all\n",
    "- np.any\n",
    "- np.argmax\n",
    "- np.argmin\n",
    "- boolean index\n",
    "- fancy index\n",
    "- loadtxt & savetxt\n",
    "  - np.loadtxt\n",
    "  - np.savetxt\n",
    "\n",
    "## 참고\n",
    "- %timeit 를 앞에 붙이면 시간 계산 해줌\n",
    "  - numpy > list comporehension > loop\n",
    "  - 넘파이의 성능 이점\n",
    "\n"
   ]
  },
  {
   "attachments": {},
   "cell_type": "markdown",
   "metadata": {},
   "source": [
    "# Pandas\n",
    "- 구조화된 데이터 처리 도구\n",
    "- "
   ]
  },
  {
   "cell_type": "code",
   "execution_count": null,
   "metadata": {},
   "outputs": [],
   "source": []
  },
  {
   "cell_type": "markdown",
   "metadata": {},
   "source": []
  },
  {
   "cell_type": "markdown",
   "metadata": {},
   "source": []
  },
  {
   "cell_type": "markdown",
   "metadata": {},
   "source": []
  }
 ],
 "metadata": {
  "kernelspec": {
   "display_name": "Python 3",
   "language": "python",
   "name": "python3"
  },
  "language_info": {
   "codemirror_mode": {
    "name": "ipython",
    "version": 3
   },
   "file_extension": ".py",
   "mimetype": "text/x-python",
   "name": "python",
   "nbconvert_exporter": "python",
   "pygments_lexer": "ipython3",
   "version": "3.9.16"
  }
 },
 "nbformat": 4,
 "nbformat_minor": 0
}
