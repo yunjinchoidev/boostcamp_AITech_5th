{
 "cells": [
  {
   "cell_type": "markdown",
   "source": [
    "# [파이썬] 강의 노트\n",
    "\n",
    "# [목차]\n",
    "> ## 기초 문법\n",
    "> ## 객체 지향\n",
    "> ## 파이썬으로 데이터 다루기\n",
    "> ## Numpy\n",
    "> ## Pandas\n",
    "\n",
    "\n"
   ],
   "metadata": {
    "collapsed": false
   }
  },
  {
   "cell_type": "code",
   "execution_count": null,
   "outputs": [],
   "source": [],
   "metadata": {
    "collapsed": false
   }
  },
  {
   "cell_type": "code",
   "execution_count": null,
   "outputs": [],
   "source": [],
   "metadata": {
    "collapsed": false
   }
  }
 ],
 "metadata": {
  "kernelspec": {
   "display_name": "Python 3",
   "language": "python",
   "name": "python3"
  },
  "language_info": {
   "codemirror_mode": {
    "name": "ipython",
    "version": 2
   },
   "file_extension": ".py",
   "mimetype": "text/x-python",
   "name": "python",
   "nbconvert_exporter": "python",
   "pygments_lexer": "ipython2",
   "version": "2.7.6"
  }
 },
 "nbformat": 4,
 "nbformat_minor": 0
}
