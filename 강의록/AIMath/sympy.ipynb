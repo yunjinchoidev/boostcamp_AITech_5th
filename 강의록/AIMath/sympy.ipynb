{
 "cells": [
  {
   "cell_type": "code",
   "execution_count": 1,
   "metadata": {},
   "outputs": [
    {
     "name": "stdout",
     "output_type": "stream",
     "text": [
      "Before Differentiation : x**2 + 2*x*y + y**2\n",
      "After Differentiation : 2*x + 2*y\n"
     ]
    }
   ],
   "source": [
    "# import sympy\n",
    "from sympy import *\n",
    " \n",
    "x, y = symbols('x y')\n",
    "gfg_exp = x + y\n",
    " \n",
    "exp = expand(gfg_exp**2)\n",
    "print(\"Before Differentiation : {}\".format(exp))\n",
    " \n",
    "# Use sympy.diff() method\n",
    "dif = diff(exp, x)\n",
    " \n",
    "print(\"After Differentiation : {}\".format(dif))"
   ]
  },
  {
   "cell_type": "code",
   "execution_count": null,
   "metadata": {},
   "outputs": [],
   "source": [
    "fun = sym.poly(x**2 + 2*x + 3)"
   ]
  }
 ],
 "metadata": {
  "kernelspec": {
   "display_name": "base",
   "language": "python",
   "name": "python3"
  },
  "language_info": {
   "codemirror_mode": {
    "name": "ipython",
    "version": 3
   },
   "file_extension": ".py",
   "mimetype": "text/x-python",
   "name": "python",
   "nbconvert_exporter": "python",
   "pygments_lexer": "ipython3",
   "version": "3.9.16"
  },
  "orig_nbformat": 4
 },
 "nbformat": 4,
 "nbformat_minor": 2
}
